{
 "cells": [
  {
   "cell_type": "markdown",
   "metadata": {},
   "source": [
    "# Sentinel-1 backscatter ratio between no-snow (July-September) and wet snow (April, May, June) on an interactive map\n",
    "\n",
    "inspired by:\n",
    "https://github.com/gee-community/ee-jupyter-contrib"
   ]
  },
  {
   "cell_type": "code",
   "execution_count": null,
   "metadata": {},
   "outputs": [],
   "source": [
    "# If you get an error here you probably need to authenticate:\n",
    "#https://github.com/google/earthengine-api/blob/master/python/examples/ipynb/authorize_notebook_server.ipynb\n",
    "import ipyleaflet\n",
    "import ee\n",
    "ee.Initialize()"
   ]
  },
  {
   "cell_type": "markdown",
   "metadata": {},
   "source": [
    "## Single image from collection"
   ]
  },
  {
   "cell_type": "code",
   "execution_count": null,
   "metadata": {},
   "outputs": [],
   "source": [
    "#https://developers.google.com/earth-engine/sentinel1\n",
    "s1 = ee.ImageCollection('COPERNICUS/S1_GRD')"
   ]
  },
  {
   "cell_type": "code",
   "execution_count": null,
   "metadata": {},
   "outputs": [],
   "source": [
    "# Filter by area\n",
    "site = ee.Geometry.Polygon(\n",
    "    [[-107.65, 37.85],\n",
    "     [-107.65, 37.95],\n",
    "     [-107.80, 37.95],\n",
    "     [-107.80, 37.85],\n",
    "     [-107.65, 37.85]])\n",
    "#print(site.toGeoJSON())"
   ]
  },
  {
   "cell_type": "code",
   "execution_count": null,
   "metadata": {},
   "outputs": [],
   "source": [
    "def GetTileLayerUrl(ee_image_object):\n",
    "  map_id = ee.Image(ee_image_object).getMapId()\n",
    "  tile_url_template = \"https://earthengine.googleapis.com/map/{mapid}/{{z}}/{{x}}/{{y}}?token={token}\"\n",
    "  return tile_url_template.format(**map_id)"
   ]
  },
  {
   "cell_type": "code",
   "execution_count": null,
   "metadata": {},
   "outputs": [],
   "source": [
    "def ReplaceOverlayLayers(map_object, ee_image_object):\n",
    "    ''' Will update existing map '''\n",
    "    for lyr in map_object.layers[1:]:\n",
    "        map_object.remove_layer(lyr)\n",
    "    tile_url = GetTileLayerUrl(ee_image_object)\n",
    "    map_object.add_layer(ipyleaflet.TileLayer(url=tile_url))"
   ]
  },
  {
   "cell_type": "code",
   "execution_count": null,
   "metadata": {},
   "outputs": [],
   "source": [
    "# More sophisticated filters\n",
    "orbitDir = ee.Filter.eq('orbitProperties_pass', 'ASCENDING')\n",
    "polarization = ee.Filter.listContains('transmitterReceiverPolarisation', 'VV')\n",
    "mode = ee.Filter.eq('instrumentMode', 'IW')\n",
    "orbit = ee.Filter.eq('relativeOrbitNumber_start', 49)\n",
    "resolution = ee.Filter.eq('resolution_meters', 10)\n",
    "dates = ee.Filter.date('2016-10-01', '2017-09-30')\n",
    "\n",
    "collection = s1.filter(orbitDir).filter(mode).filter(polarization).select('VV').filterBounds(site)\n",
    "sample_image = collection.first()"
   ]
  },
  {
   "cell_type": "code",
   "execution_count": null,
   "metadata": {},
   "outputs": [],
   "source": [
    "image_centroid = tuple(site.centroid().getInfo()['coordinates'][::-1])\n",
    "\n",
    "map1 = ipyleaflet.Map(zoom=12, center=image_centroid, layout=dict(height='600px',width='800px'))\n",
    "dc = ipyleaflet.DrawControl()\n",
    "map1.add_control(dc)\n",
    "\n",
    "viz_params = {'bands':'VV', \n",
    "              'min': -25, \n",
    "              'max': 0, \n",
    "              'opacity': 0.5}\n",
    "\n",
    "ee_image_object = sample_image.visualize(**viz_params)\n",
    "\n",
    "map1.add_layer(\n",
    "    ipyleaflet.TileLayer(url=GetTileLayerUrl(ee_image_object))\n",
    ")\n",
    "\n",
    "map1"
   ]
  },
  {
   "cell_type": "code",
   "execution_count": null,
   "metadata": {},
   "outputs": [],
   "source": [
    "# Get difference between snow-free and snow-melting dates (no longer apply region filter)\n",
    "start = '2017-07-01'\n",
    "end = '2017-09-30'\n",
    "snow_free = (\n",
    "    s1.filterDate(start, end).filter(mode).filter(polarization).select('VV')\n",
    "        .median()\n",
    ")\n",
    "\n",
    "ReplaceOverlayLayers(map1, snow_free.visualize(**viz_params))\n"
   ]
  },
  {
   "cell_type": "code",
   "execution_count": null,
   "metadata": {},
   "outputs": [],
   "source": [
    "# Amplitude during major snow-melt\n",
    "start = '2017-05-01'\n",
    "end = '2017-05-30'\n",
    "snow_melt= (\n",
    "    s1.filterDate(start, end).filter(mode).filter(polarization).select('VV')\n",
    "        .median()       \n",
    ")\n",
    "\n",
    "ReplaceOverlayLayers(map1, snow_melt.visualize(**viz_params))"
   ]
  },
  {
   "cell_type": "code",
   "execution_count": null,
   "metadata": {},
   "outputs": [],
   "source": [
    "# Careful w/ client versus server operations\n",
    "# https://gis.stackexchange.com/questions/247707/retrieve-image-statistics-as-numbers-in-google-earth-engine\n",
    "dif = snow_melt.subtract(snow_free)\n",
    "\n",
    "# Use the reducer to get the mean and SD of the image.\n",
    "#mean = ee.Number(dif.reduceRegion(ee.Reducer.mean(), crs='EPSG:32618', scale=100, geometry=site, bestEffort=True))\n",
    "#std = ee.Number(dif.reduceRegion(ee.Reducer.stdDev(), crs='EPSG:32618', scale=100, geometry=site, bestEffort=True))\n",
    "#print(mean.getInfo(), std.getInfo())\n",
    "#print(mean.getInfo(), std.getInfo())"
   ]
  },
  {
   "cell_type": "code",
   "execution_count": null,
   "metadata": {},
   "outputs": [],
   "source": [
    "viz_dif = {'bands':'VV', \n",
    "            'min': -4, \n",
    "            'max': 0, \n",
    "            'opacity': 0.5,\n",
    "            'palette': ['0000FF','00FFFF'],}\n",
    "\n",
    "ReplaceOverlayLayers(map1, dif.visualize(**viz_dif))"
   ]
  },
  {
   "cell_type": "code",
   "execution_count": null,
   "metadata": {},
   "outputs": [],
   "source": [
    "mask = dif.lte(-4)\n",
    "test = dif.updateMask(mask)\n",
    "ReplaceOverlayLayers(map1, test.visualize(**viz_dif))"
   ]
  },
  {
   "cell_type": "code",
   "execution_count": null,
   "metadata": {},
   "outputs": [],
   "source": [
    "# Correlate with Elevation / Slope... etc...\n",
    "#image = ee.Image('USGS/NED')"
   ]
  }
 ],
 "metadata": {
  "kernelspec": {
   "display_name": "Python 3",
   "language": "python",
   "name": "python3"
  },
  "language_info": {
   "codemirror_mode": {
    "name": "ipython",
    "version": 3
   },
   "file_extension": ".py",
   "mimetype": "text/x-python",
   "name": "python",
   "nbconvert_exporter": "python",
   "pygments_lexer": "ipython3",
   "version": "3.6.6"
  }
 },
 "nbformat": 4,
 "nbformat_minor": 2
}
